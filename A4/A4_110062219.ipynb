{
 "cells": [
  {
   "attachments": {},
   "cell_type": "markdown",
   "metadata": {},
   "source": [
    "# Linear Algebra Assignment 4\n",
    "## 110062219 翁君牧"
   ]
  },
  {
   "cell_type": "code",
   "execution_count": null,
   "metadata": {},
   "outputs": [],
   "source": [
    "import sys\n",
    "\n",
    "import numpy as np\n",
    "import pandas as pd\n",
    "from sklearn.feature_extraction.text import TfidfVectorizer\n",
    "\n",
    "try:\n",
    "    from sklearnex import patch_sklearn\n",
    "    patch_sklearn()\n",
    "    print(\"Intel Acceleration Extension for Sci-Kit Learn enabled.\", file=sys.stderr)\n",
    "except Exception as e:\n",
    "    print(e, file=sys.stderr)"
   ]
  },
  {
   "cell_type": "code",
   "execution_count": null,
   "metadata": {},
   "outputs": [],
   "source": [
    "# ---------- using linear least square ----------------\n",
    "def LSTSQDistance(spam, ham, test):\n",
    "    X1 = np.linalg.lstsq(spam, test, rcond=None)[0]\n",
    "    R1 = np.dot(spam, X1) - test\n",
    "    X2 = np.linalg.lstsq(ham, test, rcond=None)[0]\n",
    "    R2 = np.dot(ham, X2) - test\n",
    "    [m, n] = R1.shape\n",
    "    pos = 0\n",
    "    neg = 0\n",
    "    for i in range(n):\n",
    "        # distance to the spam subspace\n",
    "        d1 = np.linalg.norm(R1[:,i])\n",
    "        # distance to the ham subspace\n",
    "        d2 = np.linalg.norm(R2[:,i])\n",
    "        if d1 >= d2:\n",
    "            # not a spam\n",
    "            neg = neg + 1\n",
    "        else:\n",
    "            # is a spam\n",
    "            pos = pos + 1\n",
    "\n",
    "    return pos, neg"
   ]
  },
  {
   "cell_type": "code",
   "execution_count": null,
   "metadata": {},
   "outputs": [],
   "source": [
    "# ---------- main program --------------------\n",
    "emails = pd.read_csv(\"emails.csv\")\n",
    "df = pd.DataFrame(emails)\n",
    "spam = df['spam']\n",
    "fold = df['fold']\n",
    "\n",
    "# initialize\n",
    "cv = TfidfVectorizer(stop_words='english', max_features=20000, token_pattern=r\"(?u)\\b[a-zA-Z]\\w+\\b\") \n",
    "dt_matrix = cv.fit_transform(df['text'])\n",
    "[m, n] = dt_matrix.shape"
   ]
  },
  {
   "cell_type": "code",
   "execution_count": null,
   "metadata": {},
   "outputs": [],
   "source": [
    "# For each email, we have two tags: spam and fold.\n",
    "# Spam = 1 means the email is a spam; spam = 0 means the email is not a spam\n",
    "# And for each email, it also belongs to a fold.\n",
    "# In this file, there are 5 fold, numbered from 0 to 4.\n",
    "# In this example, we will use fold 0-3 as training data and fold 4 as test data.\n",
    "\n",
    "spam_train = (dt_matrix[[i for i in range(m) if fold[i] != 4 and spam[i]], :]).toarray().transpose()\n",
    "spam_test = (dt_matrix[[i for i in range(m) if fold[i] == 4 and spam[i]], :]).toarray().transpose()\n",
    "ham_train = (dt_matrix[[i for i in range(m) if fold[i] != 4 and not spam[i]], :]).toarray().transpose()\n",
    "ham_test = (dt_matrix[[i for i in range(m) if fold[i] == 4 and not spam[i]], :]).toarray().transpose()\n",
    "\n",
    "# Compute the confusion matrix\n",
    "p1, n1 = LSTSQDistance(spam_train, ham_train, spam_test)\n",
    "p2, n2 = LSTSQDistance(spam_train, ham_train, ham_test)\n",
    "print(p1, n1)\n",
    "print(p2, n2)"
   ]
  }
 ],
 "metadata": {
  "kernelspec": {
   "display_name": "linalg",
   "language": "python",
   "name": "python3"
  },
  "language_info": {
   "codemirror_mode": {
    "name": "ipython",
    "version": 3
   },
   "file_extension": ".py",
   "mimetype": "text/x-python",
   "name": "python",
   "nbconvert_exporter": "python",
   "pygments_lexer": "ipython3",
   "version": "3.10.4"
  },
  "orig_nbformat": 4,
  "vscode": {
   "interpreter": {
    "hash": "02167a8e8bdb3f75532bada9ed3c0132324a4d811afb119be6d2bba0af16c733"
   }
  }
 },
 "nbformat": 4,
 "nbformat_minor": 2
}
