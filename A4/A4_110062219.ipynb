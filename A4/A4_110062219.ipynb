{
 "cells": [
  {
   "cell_type": "markdown",
   "metadata": {},
   "source": [
    "# Linear Algebra Assignment 4\n",
    "## 110062219 翁君牧"
   ]
  },
  {
   "cell_type": "code",
   "execution_count": 1,
   "metadata": {},
   "outputs": [
    {
     "name": "stdout",
     "output_type": "stream",
     "text": [
      "time: 208 µs (started: 2023-01-02 18:09:25 +08:00)\n"
     ]
    },
    {
     "name": "stderr",
     "output_type": "stream",
     "text": [
      "Intel(R) Extension for Scikit-learn* enabled (https://github.com/intel/scikit-learn-intelex)\n"
     ]
    }
   ],
   "source": [
    "# !export OMP_NUM_THREADS=$(nproc)\n",
    "# !export MKL_NUM_THREADS=$(nproc)\n",
    "\n",
    "import sys\n",
    "\n",
    "import numpy as np\n",
    "import pandas as pd\n",
    "from sklearn.feature_extraction.text import TfidfVectorizer\n",
    "\n",
    "try:\n",
    "    from sklearnex import patch_sklearn\n",
    "    patch_sklearn()\n",
    "except Exception as e:\n",
    "    print(e, file=sys.stderr)\n",
    "    \n",
    "try:\n",
    "    %load_ext autotime\n",
    "except:\n",
    "    pass"
   ]
  },
  {
   "cell_type": "code",
   "execution_count": 2,
   "metadata": {},
   "outputs": [
    {
     "name": "stdout",
     "output_type": "stream",
     "text": [
      "time: 761 µs (started: 2023-01-02 18:09:25 +08:00)\n"
     ]
    }
   ],
   "source": [
    "# ---------- using linear least square ----------------\n",
    "def LSTSQDistance(spam, ham, test):\n",
    "    X1 = np.linalg.lstsq(spam, test, rcond=None)[0]\n",
    "    R1 = np.dot(spam, X1) - test\n",
    "    X2 = np.linalg.lstsq(ham, test, rcond=None)[0]\n",
    "    R2 = np.dot(ham, X2) - test\n",
    "    [m, n] = R1.shape\n",
    "    pos = 0\n",
    "    neg = 0\n",
    "    for i in range(n):\n",
    "        # distance to the spam subspace\n",
    "        d1 = np.linalg.norm(R1[:,i])\n",
    "        # distance to the ham subspace\n",
    "        d2 = np.linalg.norm(R2[:,i])\n",
    "        if d1 >= d2:\n",
    "            # not a spam\n",
    "            neg = neg + 1\n",
    "        else:\n",
    "            # is a spam\n",
    "            pos = pos + 1\n",
    "\n",
    "    return pos, neg"
   ]
  },
  {
   "cell_type": "code",
   "execution_count": 3,
   "metadata": {},
   "outputs": [
    {
     "name": "stderr",
     "output_type": "stream",
     "text": [
      "/home/nevikw39/.conda/envs/linalg/lib/python3.10/site-packages/sklearn/feature_extraction/text.py:1640: RuntimeWarning: divide by zero encountered in true_divide\n",
      "  idf = np.log(n_samples / df) + 1\n"
     ]
    },
    {
     "name": "stdout",
     "output_type": "stream",
     "text": [
      "time: 923 ms (started: 2023-01-02 18:09:25 +08:00)\n"
     ]
    }
   ],
   "source": [
    "# ---------- main program --------------------\n",
    "emails = pd.read_csv(\"emails.csv\")\n",
    "df = pd.concat([emails, pd.read_csv(\"A4_110062219.csv\")], ignore_index=True)\n",
    "spam = df['spam']\n",
    "fold = df['fold']\n",
    "\n",
    "# initialize\n",
    "cv = TfidfVectorizer(stop_words='english', max_features=20000, token_pattern=r\"(?u)\\b[a-zA-Z]\\w+\\b\") \n",
    "dt_matrix = cv.fit_transform(df['text'])\n",
    "[m, n] = dt_matrix.shape\n",
    "\n",
    "# For each email, we have two tags: spam and fold.\n",
    "# Spam = 1 means the email is a spam; spam = 0 means the email is not a spam\n",
    "# And for each email, it also belongs to a fold.\n",
    "# In this file, there are 5 fold, numbered from 0 to 4.\n",
    "# In this example, we will use fold 0-3 as training data and fold 4 as test data.\n",
    "\n",
    "spam_train = (dt_matrix[[i for i in range(m) if fold[i] != 4 and spam[i]], :]).toarray().transpose()\n",
    "spam_test = (dt_matrix[[i for i in range(m) if fold[i] == 4 and spam[i]], :]).toarray().transpose()\n",
    "ham_train = (dt_matrix[[i for i in range(m) if fold[i] != 4 and not spam[i]], :]).toarray().transpose()\n",
    "ham_test = (dt_matrix[[i for i in range(m) if fold[i] == 4 and not spam[i]], :]).toarray().transpose()"
   ]
  },
  {
   "cell_type": "code",
   "execution_count": 4,
   "metadata": {},
   "outputs": [
    {
     "name": "stdout",
     "output_type": "stream",
     "text": [
      "208 74\n",
      "1 861\n",
      "time: 20.1 s (started: 2023-01-02 18:09:26 +08:00)\n"
     ]
    }
   ],
   "source": [
    "# Compute the confusion matrix\n",
    "p1, n1 = LSTSQDistance(spam_train, ham_train, spam_test)\n",
    "p2, n2 = LSTSQDistance(spam_train, ham_train, ham_test)\n",
    "print(p1, n1)\n",
    "print(p2, n2)"
   ]
  },
  {
   "cell_type": "markdown",
   "metadata": {},
   "source": [
    "## Q3"
   ]
  },
  {
   "cell_type": "code",
   "execution_count": 5,
   "metadata": {},
   "outputs": [
    {
     "name": "stdout",
     "output_type": "stream",
     "text": [
      "[[202   0]\n",
      " [ 67 870]]\n",
      "Acc = 0.9411764705882353\n",
      "  P = 1.0\n",
      "  R = 0.7509293680297398\n",
      "[[220   0]\n",
      " [ 68 877]]\n",
      "Acc = 0.9416309012875537\n",
      "  P = 1.0\n",
      "  R = 0.7638888888888888\n",
      "[[199   1]\n",
      " [ 70 877]]\n",
      "Acc = 0.9380993897122929\n",
      "  P = 0.995\n",
      "  R = 0.7397769516728625\n",
      "[[194   0]\n",
      " [ 71 871]]\n",
      "Acc = 0.9375\n",
      "  P = 1.0\n",
      "  R = 0.7320754716981132\n",
      "time: 1min 15s (started: 2023-01-02 18:09:46 +08:00)\n"
     ]
    }
   ],
   "source": [
    "for j in range(4):\n",
    "    spam_train = (dt_matrix[[i for i in range(m) if fold[i] != j and spam[i]], :]).toarray().transpose()\n",
    "    spam_test = (dt_matrix[[i for i in range(m) if fold[i] == j and spam[i]], :]).toarray().transpose()\n",
    "    ham_train = (dt_matrix[[i for i in range(m) if fold[i] != j and not spam[i]], :]).toarray().transpose()\n",
    "    ham_test = (dt_matrix[[i for i in range(m) if fold[i] == j and not spam[i]], :]).toarray().transpose()\n",
    "\n",
    "    # Compute the confusion matrix\n",
    "    tp, fn = LSTSQDistance(spam_train, ham_train, spam_test)\n",
    "    fp, tn = LSTSQDistance(spam_train, ham_train, ham_test)\n",
    "\n",
    "    print(np.array([[tp, fp], [fn, tn]]))\n",
    "    print(\"Acc =\", (tp + tn) / (tp + fn + tn + fp))\n",
    "    print(\"  P =\", tp / (tp + fp))\n",
    "    print(\"  R =\", tp / (tp + fn))"
   ]
  },
  {
   "cell_type": "markdown",
   "metadata": {},
   "source": [
    "## Q4"
   ]
  },
  {
   "cell_type": "code",
   "execution_count": 6,
   "metadata": {},
   "outputs": [
    {
     "name": "stdout",
     "output_type": "stream",
     "text": [
      "time: 954 µs (started: 2023-01-02 18:11:02 +08:00)\n"
     ]
    }
   ],
   "source": [
    "def SVDDistance(spam: np.ndarray, ham: np.ndarray, test1: np.ndarray, test2: np.ndarray) -> tuple[int, int, int, int]:\n",
    "    U1, S1, V1 = np.linalg.svd(spam, full_matrices=False)\n",
    "    basis1 = U1[:, np.flatnonzero(S1)]\n",
    "\n",
    "    U2, S2, V2 = np.linalg.svd(ham, full_matrices=False)\n",
    "    basis2 = U2[:, np.flatnonzero(S2)]\n",
    "    \n",
    "    lst = []\n",
    "    for test in [test1, test2]:\n",
    "        proj1 = np.dot(basis1, np.dot(basis1.T, test))\n",
    "        proj2 = np.dot(basis2, np.dot(basis2.T, test))\n",
    "\n",
    "        r1 = test - proj1\n",
    "        r2 = test - proj2\n",
    "\n",
    "        pos = 0\n",
    "        neg = 0\n",
    "\n",
    "        for i in range(test.shape[1]):\n",
    "            d1 = np.linalg.norm(r1[:, i])\n",
    "            d2 = np.linalg.norm(r2[:, i])\n",
    "            if d1 <= d2:\n",
    "                pos += 1\n",
    "            else:\n",
    "                neg += 1\n",
    "        lst.extend((pos, neg))\n",
    "\n",
    "    return (*lst,)"
   ]
  },
  {
   "cell_type": "code",
   "execution_count": 7,
   "metadata": {},
   "outputs": [
    {
     "name": "stdout",
     "output_type": "stream",
     "text": [
      "[[206   1]\n",
      " [ 76 861]]\n",
      "Acc = 0.9326923076923077\n",
      "  P = 0.9951690821256038\n",
      "  R = 0.7304964539007093\n",
      "time: 5.24 s (started: 2023-01-02 18:11:02 +08:00)\n"
     ]
    }
   ],
   "source": [
    "spam_train = (dt_matrix[[i for i in range(m) if fold[i] != 4 and spam[i]], :]).toarray().transpose()\n",
    "spam_test = (dt_matrix[[i for i in range(m) if fold[i] == 4 and spam[i]], :]).toarray().transpose()\n",
    "ham_train = (dt_matrix[[i for i in range(m) if fold[i] != 4 and not spam[i]], :]).toarray().transpose()\n",
    "ham_test = (dt_matrix[[i for i in range(m) if fold[i] == 4 and not spam[i]], :]).toarray().transpose()\n",
    "\n",
    "# Compute the confusion matrix\n",
    "tp, fn, fp, tn = SVDDistance(spam_train, ham_train, spam_test, ham_test)\n",
    "\n",
    "print(np.array([[tp, fp], [fn, tn]]))\n",
    "print(\"Acc =\", (tp + tn) / (tp + fn + tn + fp))\n",
    "print(\"  P =\", tp / (tp + fp))\n",
    "print(\"  R =\", tp / (tp + fn))"
   ]
  },
  {
   "cell_type": "markdown",
   "metadata": {},
   "source": [
    "## Q5"
   ]
  },
  {
   "cell_type": "code",
   "execution_count": 8,
   "metadata": {},
   "outputs": [
    {
     "name": "stdout",
     "output_type": "stream",
     "text": [
      "time: 940 µs (started: 2023-01-02 18:11:07 +08:00)\n"
     ]
    }
   ],
   "source": [
    "def SVDDistance_LRA(spam: np.ndarray, ham: np.ndarray, test1: np.ndarray, test2: np.ndarray, k1: int, k2: int) -> tuple[int, int, int, int]:\n",
    "    U1, S1, V1 = np.linalg.svd(spam, full_matrices=False)\n",
    "    basis1 = U1[:, np.flatnonzero(S1[:k1])]\n",
    "\n",
    "    U2, S2, V2 = np.linalg.svd(ham, full_matrices=False)\n",
    "    basis2 = U2[:, np.flatnonzero(S2[:k2])]\n",
    "    \n",
    "    lst = []\n",
    "    for test in [test1, test2]:\n",
    "        proj1 = np.dot(basis1, np.dot(basis1.T, test))\n",
    "        proj2 = np.dot(basis2, np.dot(basis2.T, test))\n",
    "\n",
    "        r1 = test - proj1\n",
    "        r2 = test - proj2\n",
    "\n",
    "        pos = 0\n",
    "        neg = 0\n",
    "\n",
    "        for i in range(test.shape[1]):\n",
    "            d1 = np.linalg.norm(r1[:, i])\n",
    "            d2 = np.linalg.norm(r2[:, i])\n",
    "            if d1 <= d2:\n",
    "                pos += 1\n",
    "            else:\n",
    "                neg += 1\n",
    "        lst.extend((pos, neg))\n",
    "\n",
    "    return (*lst,)"
   ]
  },
  {
   "cell_type": "code",
   "execution_count": 9,
   "metadata": {},
   "outputs": [
    {
     "name": "stdout",
     "output_type": "stream",
     "text": [
      "200 100\n",
      "CPU times: user 4min 9s, sys: 7.25 s, total: 4min 17s\n",
      "Wall time: 4.77 s\n",
      "[[279  31]\n",
      " [  3 831]]\n",
      "Acc = 0.9702797202797203\n",
      "  P = 0.9\n",
      "  R = 0.9893617021276596\n",
      "200 200\n",
      "CPU times: user 3min 53s, sys: 6.84 s, total: 4min\n",
      "Wall time: 4.47 s\n",
      "[[276  10]\n",
      " [  6 852]]\n",
      "Acc = 0.986013986013986\n",
      "  P = 0.965034965034965\n",
      "  R = 0.9787234042553191\n",
      "200 300\n",
      "CPU times: user 3min 46s, sys: 6.57 s, total: 3min 52s\n",
      "Wall time: 4.32 s\n",
      "[[272   2]\n",
      " [ 10 860]]\n",
      "Acc = 0.9895104895104895\n",
      "  P = 0.9927007299270073\n",
      "  R = 0.9645390070921985\n",
      "200 600\n",
      "CPU times: user 3min 53s, sys: 7.64 s, total: 4min 1s\n",
      "Wall time: 4.48 s\n",
      "[[253   1]\n",
      " [ 29 861]]\n",
      "Acc = 0.9737762237762237\n",
      "  P = 0.9960629921259843\n",
      "  R = 0.8971631205673759\n",
      "200 1200\n",
      "CPU times: user 3min 52s, sys: 7.07 s, total: 3min 59s\n",
      "Wall time: 4.49 s\n",
      "[[218   0]\n",
      " [ 64 862]]\n",
      "Acc = 0.9440559440559441\n",
      "  P = 1.0\n",
      "  R = 0.7730496453900709\n",
      "300 100\n",
      "CPU times: user 3min 53s, sys: 7.42 s, total: 4min\n",
      "Wall time: 4.47 s\n",
      "[[281  51]\n",
      " [  1 811]]\n",
      "Acc = 0.9545454545454546\n",
      "  P = 0.8463855421686747\n",
      "  R = 0.9964539007092199\n",
      "300 200\n",
      "CPU times: user 3min 49s, sys: 6.62 s, total: 3min 56s\n",
      "Wall time: 4.4 s\n",
      "[[278  18]\n",
      " [  4 844]]\n",
      "Acc = 0.9807692307692307\n",
      "  P = 0.9391891891891891\n",
      "  R = 0.9858156028368794\n",
      "300 300\n",
      "CPU times: user 3min 53s, sys: 8.07 s, total: 4min 1s\n",
      "Wall time: 4.49 s\n",
      "[[275   6]\n",
      " [  7 856]]\n",
      "Acc = 0.9886363636363636\n",
      "  P = 0.9786476868327402\n",
      "  R = 0.975177304964539\n",
      "300 600\n",
      "CPU times: user 3min 52s, sys: 6.44 s, total: 3min 58s\n",
      "Wall time: 4.43 s\n",
      "[[264   2]\n",
      " [ 18 860]]\n",
      "Acc = 0.9825174825174825\n",
      "  P = 0.9924812030075187\n",
      "  R = 0.9361702127659575\n",
      "300 1200\n",
      "CPU times: user 3min 53s, sys: 6.68 s, total: 4min\n",
      "Wall time: 4.49 s\n",
      "[[233   0]\n",
      " [ 49 862]]\n",
      "Acc = 0.9571678321678322\n",
      "  P = 1.0\n",
      "  R = 0.8262411347517731\n",
      "600 100\n",
      "CPU times: user 3min 48s, sys: 6.67 s, total: 3min 54s\n",
      "Wall time: 4.37 s\n",
      "[[281 105]\n",
      " [  1 757]]\n",
      "Acc = 0.9073426573426573\n",
      "  P = 0.727979274611399\n",
      "  R = 0.9964539007092199\n",
      "600 200\n",
      "CPU times: user 3min 47s, sys: 6.65 s, total: 3min 54s\n",
      "Wall time: 4.37 s\n",
      "[[281  36]\n",
      " [  1 826]]\n",
      "Acc = 0.9676573426573427\n",
      "  P = 0.886435331230284\n",
      "  R = 0.9964539007092199\n",
      "600 300\n",
      "CPU times: user 3min 49s, sys: 6.42 s, total: 3min 56s\n",
      "Wall time: 4.42 s\n",
      "[[278  20]\n",
      " [  4 842]]\n",
      "Acc = 0.9790209790209791\n",
      "  P = 0.9328859060402684\n",
      "  R = 0.9858156028368794\n",
      "600 600\n",
      "CPU times: user 3min 51s, sys: 6.92 s, total: 3min 58s\n",
      "Wall time: 4.45 s\n",
      "[[274   4]\n",
      " [  8 858]]\n",
      "Acc = 0.9895104895104895\n",
      "  P = 0.9856115107913669\n",
      "  R = 0.9716312056737588\n",
      "600 1200\n",
      "CPU times: user 3min 55s, sys: 7.16 s, total: 4min 2s\n",
      "Wall time: 4.55 s\n",
      "[[255   3]\n",
      " [ 27 859]]\n",
      "Acc = 0.9737762237762237\n",
      "  P = 0.9883720930232558\n",
      "  R = 0.9042553191489362\n",
      "time: 1min 7s (started: 2023-01-02 18:11:07 +08:00)\n"
     ]
    }
   ],
   "source": [
    "lst = []\n",
    "\n",
    "for k1 in [200, 300, 600]:\n",
    "    for k2 in [100, 200, 300, 600, 1200]:\n",
    "        print(k1, k2)\n",
    "        \n",
    "        %time tp, fn, fp, tn = SVDDistance_LRA(spam_train, ham_train, spam_test, ham_test, k1, k2)\n",
    "\n",
    "        print(np.array([[tp, fp], [fn, tn]]))\n",
    "        print(\"Acc =\", (tp + tn) / (tp + fn + tn + fp))\n",
    "        print(\"  P =\", tp / (tp + fp))\n",
    "        print(\"  R =\", tp / (tp + fn))\n",
    "        \n",
    "        lst.append([k1, k2, fn, fp])\n",
    "\n",
    "np.savetxt(\"A4_110062219.dat\", lst, fmt=\"%d\")"
   ]
  },
  {
   "cell_type": "markdown",
   "metadata": {},
   "source": [
    "## Q6"
   ]
  },
  {
   "cell_type": "code",
   "execution_count": 10,
   "metadata": {},
   "outputs": [
    {
     "name": "stdout",
     "output_type": "stream",
     "text": [
      "time: 1.06 ms (started: 2023-01-02 18:12:14 +08:00)\n"
     ]
    }
   ],
   "source": [
    "from sklearn.decomposition import NMF\n",
    "from sklearn.preprocessing import normalize\n",
    "\n",
    "# from dask.distributed import Client\n",
    "# import joblib\n",
    "\n",
    "\n",
    "# client = Client()\n",
    "\n",
    "\n",
    "def NMFDistance(spam: np.ndarray, ham: np.ndarray, test1: np.ndarray, test2: np.ndarray, k1: int, k2: int) -> tuple[int, int, int, int]:\n",
    "    model1 = NMF(n_components=k1, init=\"nndsvd\", solver=\"mu\")\n",
    "    # with joblib.parallel_backend('dask'):\n",
    "    W1 = model1.fit_transform(normalize(spam))\n",
    "    # H1 = model1.components_\n",
    "    \n",
    "    model2 = NMF(n_components=k2, init=\"nndsvd\", solver=\"mu\")\n",
    "    # with joblib.parallel_backend('dask'):\n",
    "    W2 = model2.fit_transform(normalize(ham))\n",
    "    # H2 = model2.components_\n",
    "    \n",
    "    lst = []\n",
    "    for test in [test1, test2]:\n",
    "        proj1 = np.dot(W1, np.dot(W1.T, test))\n",
    "        proj2 = np.dot(W2, np.dot(W2.T, test))\n",
    "\n",
    "        r1 = test - proj1\n",
    "        r2 = test - proj2\n",
    "\n",
    "        pos = 0\n",
    "        neg = 0\n",
    "\n",
    "        for i in range(test.shape[1]):\n",
    "            d1 = np.linalg.norm(r1[:, i])\n",
    "            d2 = np.linalg.norm(r2[:, i])\n",
    "            if d1 <= d2:\n",
    "                pos += 1\n",
    "            else:\n",
    "                neg += 1\n",
    "        lst.extend((pos, neg))\n",
    "\n",
    "    return (*lst,)\n"
   ]
  },
  {
   "cell_type": "code",
   "execution_count": 11,
   "metadata": {},
   "outputs": [
    {
     "name": "stdout",
     "output_type": "stream",
     "text": [
      "200 100\n"
     ]
    },
    {
     "name": "stderr",
     "output_type": "stream",
     "text": [
      "/home/nevikw39/.conda/envs/linalg/lib/python3.10/site-packages/sklearn/decomposition/_nmf.py:1466: UserWarning: The multiplicative update ('mu') solver cannot update zeros present in the initialization, and so leads to poorer results when used jointly with init='nndsvd'. You may try init='nndsvda' or init='nndsvdar' instead.\n",
      "  warnings.warn(\n",
      "/home/nevikw39/.conda/envs/linalg/lib/python3.10/site-packages/sklearn/decomposition/_nmf.py:1466: UserWarning: The multiplicative update ('mu') solver cannot update zeros present in the initialization, and so leads to poorer results when used jointly with init='nndsvd'. You may try init='nndsvda' or init='nndsvdar' instead.\n",
      "  warnings.warn(\n"
     ]
    },
    {
     "name": "stdout",
     "output_type": "stream",
     "text": [
      "CPU times: user 7min 31s, sys: 13.4 s, total: 7min 44s\n",
      "Wall time: 10 s\n",
      "[[ 85 551]\n",
      " [197 311]]\n",
      "Acc = 0.34615384615384615\n",
      "  P = 0.13364779874213836\n",
      "  R = 0.30141843971631205\n",
      "200 200\n"
     ]
    },
    {
     "name": "stderr",
     "output_type": "stream",
     "text": [
      "/home/nevikw39/.conda/envs/linalg/lib/python3.10/site-packages/sklearn/decomposition/_nmf.py:1466: UserWarning: The multiplicative update ('mu') solver cannot update zeros present in the initialization, and so leads to poorer results when used jointly with init='nndsvd'. You may try init='nndsvda' or init='nndsvdar' instead.\n",
      "  warnings.warn(\n",
      "/home/nevikw39/.conda/envs/linalg/lib/python3.10/site-packages/sklearn/decomposition/_nmf.py:1466: UserWarning: The multiplicative update ('mu') solver cannot update zeros present in the initialization, and so leads to poorer results when used jointly with init='nndsvd'. You may try init='nndsvda' or init='nndsvdar' instead.\n",
      "  warnings.warn(\n"
     ]
    },
    {
     "name": "stdout",
     "output_type": "stream",
     "text": [
      "CPU times: user 12min 33s, sys: 28.2 s, total: 13min 1s\n",
      "Wall time: 16.3 s\n",
      "[[ 74 283]\n",
      " [208 579]]\n",
      "Acc = 0.5708041958041958\n",
      "  P = 0.20728291316526612\n",
      "  R = 0.2624113475177305\n",
      "200 300\n"
     ]
    },
    {
     "name": "stderr",
     "output_type": "stream",
     "text": [
      "/home/nevikw39/.conda/envs/linalg/lib/python3.10/site-packages/sklearn/decomposition/_nmf.py:1466: UserWarning: The multiplicative update ('mu') solver cannot update zeros present in the initialization, and so leads to poorer results when used jointly with init='nndsvd'. You may try init='nndsvda' or init='nndsvdar' instead.\n",
      "  warnings.warn(\n",
      "/home/nevikw39/.conda/envs/linalg/lib/python3.10/site-packages/sklearn/decomposition/_nmf.py:1466: UserWarning: The multiplicative update ('mu') solver cannot update zeros present in the initialization, and so leads to poorer results when used jointly with init='nndsvd'. You may try init='nndsvda' or init='nndsvdar' instead.\n",
      "  warnings.warn(\n"
     ]
    },
    {
     "name": "stdout",
     "output_type": "stream",
     "text": [
      "CPU times: user 16min 12s, sys: 32.5 s, total: 16min 45s\n",
      "Wall time: 20.5 s\n",
      "[[ 53  96]\n",
      " [229 766]]\n",
      "Acc = 0.7159090909090909\n",
      "  P = 0.35570469798657717\n",
      "  R = 0.1879432624113475\n",
      "200 600\n"
     ]
    },
    {
     "name": "stderr",
     "output_type": "stream",
     "text": [
      "/home/nevikw39/.conda/envs/linalg/lib/python3.10/site-packages/sklearn/decomposition/_nmf.py:1466: UserWarning: The multiplicative update ('mu') solver cannot update zeros present in the initialization, and so leads to poorer results when used jointly with init='nndsvd'. You may try init='nndsvda' or init='nndsvdar' instead.\n",
      "  warnings.warn(\n",
      "/home/nevikw39/.conda/envs/linalg/lib/python3.10/site-packages/sklearn/decomposition/_nmf.py:1466: UserWarning: The multiplicative update ('mu') solver cannot update zeros present in the initialization, and so leads to poorer results when used jointly with init='nndsvd'. You may try init='nndsvda' or init='nndsvdar' instead.\n",
      "  warnings.warn(\n"
     ]
    },
    {
     "name": "stdout",
     "output_type": "stream",
     "text": [
      "CPU times: user 27min 48s, sys: 42.8 s, total: 28min 30s\n",
      "Wall time: 33.7 s\n",
      "[[ 52  30]\n",
      " [230 832]]\n",
      "Acc = 0.7727272727272727\n",
      "  P = 0.6341463414634146\n",
      "  R = 0.18439716312056736\n",
      "200 1200\n"
     ]
    },
    {
     "name": "stderr",
     "output_type": "stream",
     "text": [
      "/home/nevikw39/.conda/envs/linalg/lib/python3.10/site-packages/sklearn/decomposition/_nmf.py:1466: UserWarning: The multiplicative update ('mu') solver cannot update zeros present in the initialization, and so leads to poorer results when used jointly with init='nndsvd'. You may try init='nndsvda' or init='nndsvdar' instead.\n",
      "  warnings.warn(\n",
      "/home/nevikw39/.conda/envs/linalg/lib/python3.10/site-packages/sklearn/decomposition/_nmf.py:1466: UserWarning: The multiplicative update ('mu') solver cannot update zeros present in the initialization, and so leads to poorer results when used jointly with init='nndsvd'. You may try init='nndsvda' or init='nndsvdar' instead.\n",
      "  warnings.warn(\n"
     ]
    },
    {
     "name": "stdout",
     "output_type": "stream",
     "text": [
      "CPU times: user 43min 5s, sys: 1min 36s, total: 44min 42s\n",
      "Wall time: 51.9 s\n",
      "[[ 49  27]\n",
      " [233 835]]\n",
      "Acc = 0.7727272727272727\n",
      "  P = 0.6447368421052632\n",
      "  R = 0.17375886524822695\n",
      "300 100\n"
     ]
    },
    {
     "name": "stderr",
     "output_type": "stream",
     "text": [
      "/home/nevikw39/.conda/envs/linalg/lib/python3.10/site-packages/sklearn/decomposition/_nmf.py:1466: UserWarning: The multiplicative update ('mu') solver cannot update zeros present in the initialization, and so leads to poorer results when used jointly with init='nndsvd'. You may try init='nndsvda' or init='nndsvdar' instead.\n",
      "  warnings.warn(\n",
      "/home/nevikw39/.conda/envs/linalg/lib/python3.10/site-packages/sklearn/decomposition/_nmf.py:1466: UserWarning: The multiplicative update ('mu') solver cannot update zeros present in the initialization, and so leads to poorer results when used jointly with init='nndsvd'. You may try init='nndsvda' or init='nndsvdar' instead.\n",
      "  warnings.warn(\n"
     ]
    },
    {
     "name": "stdout",
     "output_type": "stream",
     "text": [
      "CPU times: user 11min 28s, sys: 23.2 s, total: 11min 52s\n",
      "Wall time: 14.4 s\n",
      "[[158 642]\n",
      " [124 220]]\n",
      "Acc = 0.3304195804195804\n",
      "  P = 0.1975\n",
      "  R = 0.5602836879432624\n",
      "300 200\n"
     ]
    },
    {
     "name": "stderr",
     "output_type": "stream",
     "text": [
      "/home/nevikw39/.conda/envs/linalg/lib/python3.10/site-packages/sklearn/decomposition/_nmf.py:1466: UserWarning: The multiplicative update ('mu') solver cannot update zeros present in the initialization, and so leads to poorer results when used jointly with init='nndsvd'. You may try init='nndsvda' or init='nndsvdar' instead.\n",
      "  warnings.warn(\n",
      "/home/nevikw39/.conda/envs/linalg/lib/python3.10/site-packages/sklearn/decomposition/_nmf.py:1466: UserWarning: The multiplicative update ('mu') solver cannot update zeros present in the initialization, and so leads to poorer results when used jointly with init='nndsvd'. You may try init='nndsvda' or init='nndsvdar' instead.\n",
      "  warnings.warn(\n"
     ]
    },
    {
     "name": "stdout",
     "output_type": "stream",
     "text": [
      "CPU times: user 15min 47s, sys: 31 s, total: 16min 18s\n",
      "Wall time: 19.7 s\n",
      "[[131 402]\n",
      " [151 460]]\n",
      "Acc = 0.5166083916083916\n",
      "  P = 0.24577861163227016\n",
      "  R = 0.4645390070921986\n",
      "300 300\n"
     ]
    },
    {
     "name": "stderr",
     "output_type": "stream",
     "text": [
      "/home/nevikw39/.conda/envs/linalg/lib/python3.10/site-packages/sklearn/decomposition/_nmf.py:1466: UserWarning: The multiplicative update ('mu') solver cannot update zeros present in the initialization, and so leads to poorer results when used jointly with init='nndsvd'. You may try init='nndsvda' or init='nndsvdar' instead.\n",
      "  warnings.warn(\n",
      "/home/nevikw39/.conda/envs/linalg/lib/python3.10/site-packages/sklearn/decomposition/_nmf.py:1466: UserWarning: The multiplicative update ('mu') solver cannot update zeros present in the initialization, and so leads to poorer results when used jointly with init='nndsvd'. You may try init='nndsvda' or init='nndsvdar' instead.\n",
      "  warnings.warn(\n"
     ]
    },
    {
     "name": "stdout",
     "output_type": "stream",
     "text": [
      "CPU times: user 18min 37s, sys: 38.4 s, total: 19min 16s\n",
      "Wall time: 23.5 s\n",
      "[[110 162]\n",
      " [172 700]]\n",
      "Acc = 0.708041958041958\n",
      "  P = 0.40441176470588236\n",
      "  R = 0.3900709219858156\n",
      "300 600\n"
     ]
    },
    {
     "name": "stderr",
     "output_type": "stream",
     "text": [
      "/home/nevikw39/.conda/envs/linalg/lib/python3.10/site-packages/sklearn/decomposition/_nmf.py:1466: UserWarning: The multiplicative update ('mu') solver cannot update zeros present in the initialization, and so leads to poorer results when used jointly with init='nndsvd'. You may try init='nndsvda' or init='nndsvdar' instead.\n",
      "  warnings.warn(\n",
      "/home/nevikw39/.conda/envs/linalg/lib/python3.10/site-packages/sklearn/decomposition/_nmf.py:1466: UserWarning: The multiplicative update ('mu') solver cannot update zeros present in the initialization, and so leads to poorer results when used jointly with init='nndsvd'. You may try init='nndsvda' or init='nndsvdar' instead.\n",
      "  warnings.warn(\n"
     ]
    },
    {
     "name": "stdout",
     "output_type": "stream",
     "text": [
      "CPU times: user 29min 19s, sys: 49.6 s, total: 30min 9s\n",
      "Wall time: 35.3 s\n",
      "[[ 92  41]\n",
      " [190 821]]\n",
      "Acc = 0.7980769230769231\n",
      "  P = 0.6917293233082706\n",
      "  R = 0.3262411347517731\n",
      "300 1200\n"
     ]
    },
    {
     "name": "stderr",
     "output_type": "stream",
     "text": [
      "/home/nevikw39/.conda/envs/linalg/lib/python3.10/site-packages/sklearn/decomposition/_nmf.py:1466: UserWarning: The multiplicative update ('mu') solver cannot update zeros present in the initialization, and so leads to poorer results when used jointly with init='nndsvd'. You may try init='nndsvda' or init='nndsvdar' instead.\n",
      "  warnings.warn(\n",
      "/home/nevikw39/.conda/envs/linalg/lib/python3.10/site-packages/sklearn/decomposition/_nmf.py:1466: UserWarning: The multiplicative update ('mu') solver cannot update zeros present in the initialization, and so leads to poorer results when used jointly with init='nndsvd'. You may try init='nndsvda' or init='nndsvdar' instead.\n",
      "  warnings.warn(\n"
     ]
    },
    {
     "name": "stdout",
     "output_type": "stream",
     "text": [
      "CPU times: user 35min 46s, sys: 1min 17s, total: 37min 3s\n",
      "Wall time: 43.5 s\n",
      "[[ 88  29]\n",
      " [194 833]]\n",
      "Acc = 0.8050699300699301\n",
      "  P = 0.7521367521367521\n",
      "  R = 0.3120567375886525\n",
      "600 100\n"
     ]
    },
    {
     "name": "stderr",
     "output_type": "stream",
     "text": [
      "/home/nevikw39/.conda/envs/linalg/lib/python3.10/site-packages/sklearn/decomposition/_nmf.py:1466: UserWarning: The multiplicative update ('mu') solver cannot update zeros present in the initialization, and so leads to poorer results when used jointly with init='nndsvd'. You may try init='nndsvda' or init='nndsvdar' instead.\n",
      "  warnings.warn(\n",
      "/home/nevikw39/.conda/envs/linalg/lib/python3.10/site-packages/sklearn/decomposition/_nmf.py:1466: UserWarning: The multiplicative update ('mu') solver cannot update zeros present in the initialization, and so leads to poorer results when used jointly with init='nndsvd'. You may try init='nndsvda' or init='nndsvdar' instead.\n",
      "  warnings.warn(\n"
     ]
    },
    {
     "name": "stdout",
     "output_type": "stream",
     "text": [
      "CPU times: user 15min 57s, sys: 28.9 s, total: 16min 26s\n",
      "Wall time: 19.7 s\n",
      "[[209 750]\n",
      " [ 73 112]]\n",
      "Acc = 0.28059440559440557\n",
      "  P = 0.21793534932221065\n",
      "  R = 0.7411347517730497\n",
      "600 200\n"
     ]
    },
    {
     "name": "stderr",
     "output_type": "stream",
     "text": [
      "/home/nevikw39/.conda/envs/linalg/lib/python3.10/site-packages/sklearn/decomposition/_nmf.py:1466: UserWarning: The multiplicative update ('mu') solver cannot update zeros present in the initialization, and so leads to poorer results when used jointly with init='nndsvd'. You may try init='nndsvda' or init='nndsvdar' instead.\n",
      "  warnings.warn(\n",
      "/home/nevikw39/.conda/envs/linalg/lib/python3.10/site-packages/sklearn/decomposition/_nmf.py:1466: UserWarning: The multiplicative update ('mu') solver cannot update zeros present in the initialization, and so leads to poorer results when used jointly with init='nndsvd'. You may try init='nndsvda' or init='nndsvdar' instead.\n",
      "  warnings.warn(\n"
     ]
    },
    {
     "name": "stdout",
     "output_type": "stream",
     "text": [
      "CPU times: user 20min 17s, sys: 37.1 s, total: 20min 54s\n",
      "Wall time: 24.9 s\n",
      "[[183 491]\n",
      " [ 99 371]]\n",
      "Acc = 0.48426573426573427\n",
      "  P = 0.271513353115727\n",
      "  R = 0.648936170212766\n",
      "600 300\n"
     ]
    },
    {
     "name": "stderr",
     "output_type": "stream",
     "text": [
      "/home/nevikw39/.conda/envs/linalg/lib/python3.10/site-packages/sklearn/decomposition/_nmf.py:1466: UserWarning: The multiplicative update ('mu') solver cannot update zeros present in the initialization, and so leads to poorer results when used jointly with init='nndsvd'. You may try init='nndsvda' or init='nndsvdar' instead.\n",
      "  warnings.warn(\n",
      "/home/nevikw39/.conda/envs/linalg/lib/python3.10/site-packages/sklearn/decomposition/_nmf.py:1466: UserWarning: The multiplicative update ('mu') solver cannot update zeros present in the initialization, and so leads to poorer results when used jointly with init='nndsvd'. You may try init='nndsvda' or init='nndsvdar' instead.\n",
      "  warnings.warn(\n"
     ]
    },
    {
     "name": "stdout",
     "output_type": "stream",
     "text": [
      "CPU times: user 25min 50s, sys: 48 s, total: 26min 38s\n",
      "Wall time: 31.4 s\n",
      "[[175 306]\n",
      " [107 556]]\n",
      "Acc = 0.638986013986014\n",
      "  P = 0.36382536382536385\n",
      "  R = 0.6205673758865248\n",
      "600 600\n"
     ]
    },
    {
     "name": "stderr",
     "output_type": "stream",
     "text": [
      "/home/nevikw39/.conda/envs/linalg/lib/python3.10/site-packages/sklearn/decomposition/_nmf.py:1466: UserWarning: The multiplicative update ('mu') solver cannot update zeros present in the initialization, and so leads to poorer results when used jointly with init='nndsvd'. You may try init='nndsvda' or init='nndsvdar' instead.\n",
      "  warnings.warn(\n",
      "/home/nevikw39/.conda/envs/linalg/lib/python3.10/site-packages/sklearn/decomposition/_nmf.py:1466: UserWarning: The multiplicative update ('mu') solver cannot update zeros present in the initialization, and so leads to poorer results when used jointly with init='nndsvd'. You may try init='nndsvda' or init='nndsvdar' instead.\n",
      "  warnings.warn(\n"
     ]
    },
    {
     "name": "stdout",
     "output_type": "stream",
     "text": [
      "CPU times: user 32min 39s, sys: 55.9 s, total: 33min 35s\n",
      "Wall time: 39.1 s\n",
      "[[158  73]\n",
      " [124 789]]\n",
      "Acc = 0.8277972027972028\n",
      "  P = 0.683982683982684\n",
      "  R = 0.5602836879432624\n",
      "600 1200\n"
     ]
    },
    {
     "name": "stderr",
     "output_type": "stream",
     "text": [
      "/home/nevikw39/.conda/envs/linalg/lib/python3.10/site-packages/sklearn/decomposition/_nmf.py:1466: UserWarning: The multiplicative update ('mu') solver cannot update zeros present in the initialization, and so leads to poorer results when used jointly with init='nndsvd'. You may try init='nndsvda' or init='nndsvdar' instead.\n",
      "  warnings.warn(\n",
      "/home/nevikw39/.conda/envs/linalg/lib/python3.10/site-packages/sklearn/decomposition/_nmf.py:1466: UserWarning: The multiplicative update ('mu') solver cannot update zeros present in the initialization, and so leads to poorer results when used jointly with init='nndsvd'. You may try init='nndsvda' or init='nndsvdar' instead.\n",
      "  warnings.warn(\n"
     ]
    },
    {
     "name": "stdout",
     "output_type": "stream",
     "text": [
      "CPU times: user 1h 1min 12s, sys: 2min 13s, total: 1h 3min 26s\n",
      "Wall time: 1min 12s\n",
      "[[144  49]\n",
      " [138 813]]\n",
      "Acc = 0.8365384615384616\n",
      "  P = 0.7461139896373057\n",
      "  R = 0.5106382978723404\n",
      "time: 7min 36s (started: 2023-01-02 18:12:14 +08:00)\n"
     ]
    }
   ],
   "source": [
    "for k1 in [200, 300, 600]:\n",
    "    for k2 in [100, 200, 300, 600, 1200]:\n",
    "        print(k1, k2)\n",
    "\n",
    "        %time tp, fn, fp, tn = NMFDistance(spam_train, ham_train, spam_test, ham_test, k1, k2)\n",
    "\n",
    "        print(np.array([[tp, fp], [fn, tn]]))\n",
    "        print(\"Acc =\", (tp + tn) / (tp + fn + tn + fp))\n",
    "        print(\"  P =\", tp / (tp + fp))\n",
    "        print(\"  R =\", tp / (tp + fn))"
   ]
  },
  {
   "cell_type": "code",
   "execution_count": null,
   "metadata": {},
   "outputs": [],
   "source": []
  }
 ],
 "metadata": {
  "kernelspec": {
   "display_name": "Python 3 (ipykernel)",
   "language": "python",
   "name": "python3"
  },
  "language_info": {
   "codemirror_mode": {
    "name": "ipython",
    "version": 3
   },
   "file_extension": ".py",
   "mimetype": "text/x-python",
   "name": "python",
   "nbconvert_exporter": "python",
   "pygments_lexer": "ipython3",
   "version": "3.10.4"
  },
  "vscode": {
   "interpreter": {
    "hash": "02167a8e8bdb3f75532bada9ed3c0132324a4d811afb119be6d2bba0af16c733"
   }
  }
 },
 "nbformat": 4,
 "nbformat_minor": 4
}
